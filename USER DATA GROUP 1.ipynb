{
 "cells": [
  {
   "cell_type": "code",
   "execution_count": 1,
   "id": "fcb8520a-d7e5-4229-b7de-dcbd4005f61b",
   "metadata": {},
   "outputs": [],
   "source": [
    "import pandas as pd\n",
    "import matplotlib.pyplot as plt\n",
    "import seaborn as sns"
   ]
  },
  {
   "cell_type": "code",
   "execution_count": 2,
   "id": "9007f68b-d3dc-4706-b48b-db3c5280314d",
   "metadata": {},
   "outputs": [],
   "source": [
    "data = pd.read_csv(\"C:/Users/Abdulmalik Lasisi/Downloads/UserData (2).csv\")"
   ]
  },
  {
   "cell_type": "code",
   "execution_count": 3,
   "id": "58602f8d-2bfe-47f6-b10f-55a46fb44066",
   "metadata": {},
   "outputs": [
    {
     "data": {
      "text/html": [
       "<div>\n",
       "<style scoped>\n",
       "    .dataframe tbody tr th:only-of-type {\n",
       "        vertical-align: middle;\n",
       "    }\n",
       "\n",
       "    .dataframe tbody tr th {\n",
       "        vertical-align: top;\n",
       "    }\n",
       "\n",
       "    .dataframe thead th {\n",
       "        text-align: right;\n",
       "    }\n",
       "</style>\n",
       "<table border=\"1\" class=\"dataframe\">\n",
       "  <thead>\n",
       "    <tr style=\"text-align: right;\">\n",
       "      <th></th>\n",
       "      <th>PreferredSponsors</th>\n",
       "      <th>Gender</th>\n",
       "      <th>Country</th>\n",
       "      <th>Degree</th>\n",
       "      <th>Sign Up Date</th>\n",
       "      <th>city</th>\n",
       "      <th>zip</th>\n",
       "      <th>isFromSocialMedia</th>\n",
       "    </tr>\n",
       "  </thead>\n",
       "  <tbody>\n",
       "    <tr>\n",
       "      <th>0</th>\n",
       "      <td>[\"GlobalShala\",\"Grant Thornton China\",\"Saint L...</td>\n",
       "      <td>Male</td>\n",
       "      <td>Nigeria</td>\n",
       "      <td>Undergraduate Student</td>\n",
       "      <td>2023-07-23T08:05:58.602Z</td>\n",
       "      <td>Owerri</td>\n",
       "      <td>460103</td>\n",
       "      <td>False</td>\n",
       "    </tr>\n",
       "    <tr>\n",
       "      <th>1</th>\n",
       "      <td>[\"GlobalShala\",\"Grant Thornton China\",\"Saint L...</td>\n",
       "      <td>Male</td>\n",
       "      <td>India</td>\n",
       "      <td>Undergraduate Student</td>\n",
       "      <td>2023-04-24T09:57:07.405Z</td>\n",
       "      <td>kottayam</td>\n",
       "      <td>686501</td>\n",
       "      <td>False</td>\n",
       "    </tr>\n",
       "  </tbody>\n",
       "</table>\n",
       "</div>"
      ],
      "text/plain": [
       "                                   PreferredSponsors Gender  Country  \\\n",
       "0  [\"GlobalShala\",\"Grant Thornton China\",\"Saint L...   Male  Nigeria   \n",
       "1  [\"GlobalShala\",\"Grant Thornton China\",\"Saint L...   Male    India   \n",
       "\n",
       "                  Degree              Sign Up Date      city     zip  \\\n",
       "0  Undergraduate Student  2023-07-23T08:05:58.602Z    Owerri  460103   \n",
       "1  Undergraduate Student  2023-04-24T09:57:07.405Z  kottayam  686501   \n",
       "\n",
       "  isFromSocialMedia  \n",
       "0             False  \n",
       "1             False  "
      ]
     },
     "execution_count": 3,
     "metadata": {},
     "output_type": "execute_result"
    }
   ],
   "source": [
    "data.head(2)"
   ]
  },
  {
   "cell_type": "code",
   "execution_count": 5,
   "id": "2fc0542d-383d-4da5-8f6d-3d0b0d0472ca",
   "metadata": {},
   "outputs": [
    {
     "name": "stdout",
     "output_type": "stream",
     "text": [
      "PreferredSponsors     0.00\n",
      "Gender               34.59\n",
      "Country               0.22\n",
      "Degree               39.23\n",
      "Sign Up Date          0.00\n",
      "city                 34.59\n",
      "zip                  34.63\n",
      "isFromSocialMedia     0.03\n",
      "dtype: float64\n"
     ]
    }
   ],
   "source": [
    "check_null = data.isnull().mean()*100\n",
    "print(round(check_null, 2))"
   ]
  },
  {
   "cell_type": "code",
   "execution_count": 6,
   "id": "5cdc7c73-572f-4359-86e9-27129af83e4e",
   "metadata": {},
   "outputs": [
    {
     "name": "stdout",
     "output_type": "stream",
     "text": [
      "PreferredSponsors     0.00\n",
      "Gender               34.59\n",
      "Country               0.22\n",
      "Degree               39.23\n",
      "Sign Up Date          0.00\n",
      "city                 34.59\n",
      "zip                  34.63\n",
      "isFromSocialMedia     0.03\n",
      "dtype: float64\n"
     ]
    }
   ],
   "source": [
    "check_null = data.isnull().mean() * 100\n",
    "print(round(check_null, 2))"
   ]
  },
  {
   "cell_type": "code",
   "execution_count": 20,
   "id": "182a7d52-0519-4646-8de9-48315ef4ad50",
   "metadata": {},
   "outputs": [
    {
     "name": "stdout",
     "output_type": "stream",
     "text": [
      "PreferredSponsors    0.0\n",
      "Gender               0.0\n",
      "Country              0.0\n",
      "Degree               0.0\n",
      "Sign Up Date         0.0\n",
      "city                 0.0\n",
      "zip                  0.0\n",
      "isFromSocialMedia    0.0\n",
      "dtype: float64\n"
     ]
    }
   ],
   "source": [
    "data.dropna(subset=['Gender', 'Degree', 'city', 'zip'], inplace=True)\n",
    "check_null = data.isnull().mean()*100\n",
    "print(round(check_null, 2))"
   ]
  },
  {
   "cell_type": "code",
   "execution_count": 87,
   "id": "6bc2c655-aa8b-4349-9d15-6ab99c8e45d7",
   "metadata": {},
   "outputs": [
    {
     "name": "stdout",
     "output_type": "stream",
     "text": [
      "27562\n"
     ]
    }
   ],
   "source": [
    "total_signups = data.shape[0]  # Total number of rows in the DataFrame\n",
    "print(total_signups)"
   ]
  },
  {
   "cell_type": "code",
   "execution_count": 90,
   "id": "b3ac06f4-63b0-4165-8b82-514c3072e825",
   "metadata": {},
   "outputs": [
    {
     "name": "stdout",
     "output_type": "stream",
     "text": [
      "1621.2941176470588\n"
     ]
    }
   ],
   "source": [
    "# Group by month and count sign-ups\n",
    "monthly_signups = data.groupby(data['Sign Up Date'].dt.to_period('M')).size()\n",
    "\n",
    "# Calculate average sign-up rate per month\n",
    "average_signup_rate = monthly_signups.mean()\n",
    "print(average_signup_rate)"
   ]
  },
  {
   "cell_type": "code",
   "execution_count": 22,
   "id": "92c64628-7bfe-4aaa-907f-723fa5e9fdc5",
   "metadata": {},
   "outputs": [
    {
     "data": {
      "text/html": [
       "<div>\n",
       "<style scoped>\n",
       "    .dataframe tbody tr th:only-of-type {\n",
       "        vertical-align: middle;\n",
       "    }\n",
       "\n",
       "    .dataframe tbody tr th {\n",
       "        vertical-align: top;\n",
       "    }\n",
       "\n",
       "    .dataframe thead th {\n",
       "        text-align: right;\n",
       "    }\n",
       "</style>\n",
       "<table border=\"1\" class=\"dataframe\">\n",
       "  <thead>\n",
       "    <tr style=\"text-align: right;\">\n",
       "      <th></th>\n",
       "      <th>PreferredSponsors</th>\n",
       "      <th>Gender</th>\n",
       "      <th>Country</th>\n",
       "      <th>Degree</th>\n",
       "      <th>Sign Up Date</th>\n",
       "      <th>city</th>\n",
       "      <th>zip</th>\n",
       "      <th>isFromSocialMedia</th>\n",
       "    </tr>\n",
       "  </thead>\n",
       "  <tbody>\n",
       "    <tr>\n",
       "      <th>0</th>\n",
       "      <td>[\"GlobalShala\",\"Grant Thornton China\",\"Saint L...</td>\n",
       "      <td>Male</td>\n",
       "      <td>Nigeria</td>\n",
       "      <td>Undergraduate Student</td>\n",
       "      <td>23-07-2023 08:05:58</td>\n",
       "      <td>Owerri</td>\n",
       "      <td>460103</td>\n",
       "      <td>False</td>\n",
       "    </tr>\n",
       "    <tr>\n",
       "      <th>1</th>\n",
       "      <td>[\"GlobalShala\",\"Grant Thornton China\",\"Saint L...</td>\n",
       "      <td>Male</td>\n",
       "      <td>India</td>\n",
       "      <td>Undergraduate Student</td>\n",
       "      <td>24-04-2023 09:57:07</td>\n",
       "      <td>kottayam</td>\n",
       "      <td>686501</td>\n",
       "      <td>False</td>\n",
       "    </tr>\n",
       "    <tr>\n",
       "      <th>4</th>\n",
       "      <td>[\"GlobalShala\",\"Grant Thornton China\",\"Saint L...</td>\n",
       "      <td>Female</td>\n",
       "      <td>Ghana</td>\n",
       "      <td>Not in Education</td>\n",
       "      <td>15-06-2023 16:31:42</td>\n",
       "      <td>Kumasi</td>\n",
       "      <td>AT-1214-9090</td>\n",
       "      <td>False</td>\n",
       "    </tr>\n",
       "    <tr>\n",
       "      <th>8</th>\n",
       "      <td>[\"GlobalShala\",\"Grant Thornton China\",\"Saint L...</td>\n",
       "      <td>Male</td>\n",
       "      <td>Nigeria</td>\n",
       "      <td>Undergraduate Student</td>\n",
       "      <td>27-07-2023 18:02:17</td>\n",
       "      <td>Lagos</td>\n",
       "      <td>100278</td>\n",
       "      <td>True</td>\n",
       "    </tr>\n",
       "    <tr>\n",
       "      <th>9</th>\n",
       "      <td>[\"GlobalShala\",\"Grant Thornton China\",\"Saint L...</td>\n",
       "      <td>Male</td>\n",
       "      <td>India</td>\n",
       "      <td>High School Student</td>\n",
       "      <td>05-05-2023 04:47:25</td>\n",
       "      <td>RAS</td>\n",
       "      <td>388570</td>\n",
       "      <td>True</td>\n",
       "    </tr>\n",
       "  </tbody>\n",
       "</table>\n",
       "</div>"
      ],
      "text/plain": [
       "                                   PreferredSponsors  Gender  Country  \\\n",
       "0  [\"GlobalShala\",\"Grant Thornton China\",\"Saint L...    Male  Nigeria   \n",
       "1  [\"GlobalShala\",\"Grant Thornton China\",\"Saint L...    Male    India   \n",
       "4  [\"GlobalShala\",\"Grant Thornton China\",\"Saint L...  Female    Ghana   \n",
       "8  [\"GlobalShala\",\"Grant Thornton China\",\"Saint L...    Male  Nigeria   \n",
       "9  [\"GlobalShala\",\"Grant Thornton China\",\"Saint L...    Male    India   \n",
       "\n",
       "                  Degree         Sign Up Date      city           zip  \\\n",
       "0  Undergraduate Student  23-07-2023 08:05:58    Owerri        460103   \n",
       "1  Undergraduate Student  24-04-2023 09:57:07  kottayam        686501   \n",
       "4       Not in Education  15-06-2023 16:31:42    Kumasi  AT-1214-9090   \n",
       "8  Undergraduate Student  27-07-2023 18:02:17     Lagos        100278   \n",
       "9    High School Student  05-05-2023 04:47:25       RAS        388570   \n",
       "\n",
       "  isFromSocialMedia  \n",
       "0             False  \n",
       "1             False  \n",
       "4             False  \n",
       "8              True  \n",
       "9              True  "
      ]
     },
     "execution_count": 22,
     "metadata": {},
     "output_type": "execute_result"
    }
   ],
   "source": [
    "data.head(5)"
   ]
  },
  {
   "cell_type": "code",
   "execution_count": 24,
   "id": "3a0a3662-6fb0-43b7-9d98-277f64ffc7f2",
   "metadata": {},
   "outputs": [
    {
     "name": "stdout",
     "output_type": "stream",
     "text": [
      "No duplicate rows found.\n"
     ]
    }
   ],
   "source": [
    "duplicates = data.duplicated()\n",
    "if duplicates.any():\n",
    "    print(\"Duplicate rows:\")\n",
    "    print(data[duplicates])\n",
    "else:\n",
    "    print(\"No duplicate rows found.\")"
   ]
  },
  {
   "cell_type": "code",
   "execution_count": 73,
   "id": "272c0f76-4eef-4fe4-9791-b17cf54a6342",
   "metadata": {},
   "outputs": [
    {
     "name": "stdout",
     "output_type": "stream",
     "text": [
      "Sign Up Month\n",
      "2023-06    7933\n",
      "2023-07    4453\n",
      "2023-08    3010\n",
      "2023-05    2373\n",
      "2023-03    2026\n",
      "Freq: M, dtype: int64\n"
     ]
    }
   ],
   "source": [
    "import pandas as pd\n",
    "\n",
    "# Convert 'Sign Up Date' to datetime and remove timezone information\n",
    "data[\"Sign Up Date\"] = pd.to_datetime(data[\"Sign Up Date\"]).dt.tz_localize(None)\n",
    "\n",
    "# Extract the month and year from 'Sign Up Date'\n",
    "data['Sign Up Month'] = data[\"Sign Up Date\"].dt.to_period(\"M\")\n",
    "\n",
    "# Group by the 'Sign Up Month' and count the number of participants\n",
    "monthly_signups = data.groupby(\"Sign Up Month\").size()\n",
    "\n",
    "# Sort the counts in descending order and get the top 5 months\n",
    "top_5_months = monthly_signups.sort_values(ascending=False).head(5)\n",
    "\n",
    "print(top_5_months)\n"
   ]
  },
  {
   "cell_type": "code",
   "execution_count": 76,
   "id": "340a0baa-d22a-4f63-921a-f2c31db5f94e",
   "metadata": {},
   "outputs": [
    {
     "name": "stdout",
     "output_type": "stream",
     "text": [
      "Bottom 5 Sign Up Month\n",
      "2022-05      2\n",
      "2023-11    241\n",
      "2022-12    285\n",
      "2023-01    459\n",
      "2022-11    555\n",
      "Freq: M, dtype: int64\n"
     ]
    }
   ],
   "source": [
    "data[\"Sign Up Date\"] = pd.to_datetime(data[\"Sign Up Date\"], format = \"%d-%m-%Y %H:%M:%S\")\n",
    "data[\"Bottom 5 Sign Up Month\"] = data[\"Sign Up Date\"].dt.to_period(\"M\")\n",
    "monthsignups = data.groupby(\"Bottom 5 Sign Up Month\").size()\n",
    "bottom_5_signups = monthsignups.sort_values(ascending = True).head(5)\n",
    "print(bottom_5_signups)"
   ]
  },
  {
   "cell_type": "code",
   "execution_count": 97,
   "id": "d8a191a0-9525-47f7-9145-82159661a8d2",
   "metadata": {},
   "outputs": [
    {
     "name": "stdout",
     "output_type": "stream",
     "text": [
      "Sign Up Date  Sign Ups\n",
      "     2022-05         2\n",
      "     2022-08       614\n",
      "     2022-09       915\n",
      "     2022-10       945\n",
      "     2022-11       555\n",
      "     2022-12       285\n",
      "     2023-01       459\n",
      "     2023-02       602\n",
      "     2023-03      2026\n",
      "     2023-04      1444\n",
      "     2023-05      2373\n",
      "     2023-06      7933\n",
      "     2023-07      4453\n",
      "     2023-08      3010\n",
      "     2023-09       953\n",
      "     2023-10       752\n",
      "     2023-11       241\n"
     ]
    }
   ],
   "source": [
    "data['Sign Up Date'] = pd.to_datetime(data['Sign Up Date'], format='%d-%m-%Y %H:%M:%S')\n",
    "\n",
    "# Group by month and count sign-ups\n",
    "monthly_signups = data.groupby(data['Sign Up Date'].dt.to_period('M')).size().reset_index(name='Sign Ups')\n",
    "\n",
    "# Calculate the percentage increase\n",
    "monthly_signups['Previous Sign Ups'] = monthly_signups['Sign Ups'].shift(1)\n",
    "monthly_signups['Percentage Increase'] = ((monthly_signups['Sign Ups'] - monthly_signups['Previous Sign Ups']) / monthly_signups['Previous Sign Ups']) * 100\n",
    "\n",
    "# Display the result\n",
    "print(monthly_signups[['Sign Up Date', 'Sign Ups']].to_string(index= False))"
   ]
  },
  {
   "cell_type": "code",
   "execution_count": 110,
   "id": "7baf21b2-1767-44a9-826a-67328e867659",
   "metadata": {},
   "outputs": [
    {
     "name": "stdout",
     "output_type": "stream",
     "text": [
      "Monthly Gender Distribution:\n",
      "Gender     Don't want to specify  Female  Male  Other\n",
      "YearMonth                                            \n",
      "2022-05                        0       1     0      0\n",
      "2022-08                        3     132   220      0\n",
      "2022-09                        7     229   358      1\n",
      "2022-10                        2     210   384      1\n",
      "2022-11                        0      97   178      1\n",
      "2022-12                        1      62    94      0\n",
      "2023-01                        3     130   205      0\n",
      "2023-02                        5     143   199      0\n",
      "2023-03                        2     484   647      2\n",
      "2023-04                        8     347   653      1\n",
      "2023-05                        3     702   954      1\n",
      "2023-06                       19    1721  3046      6\n",
      "2023-07                       14    1272  1991      1\n",
      "2023-08                        6     823  1281      1\n",
      "2023-09                        1     278   420      0\n",
      "2023-10                        1     223   295      0\n",
      "2023-11                        0      56   102      0\n",
      "\n",
      "Monthly Major Distribution:\n",
      "Degree     Graduate Program Student  High School Student  Not in Education  \\\n",
      "YearMonth                                                                    \n",
      "2022-05                           0                    0                 0   \n",
      "2022-08                          98                   60                40   \n",
      "2022-09                         161                  182                78   \n",
      "2022-10                         219                   96               108   \n",
      "2022-11                          45                  135                25   \n",
      "2022-12                          45                   30                25   \n",
      "2023-01                         103                   65                39   \n",
      "2023-02                          98                   68                35   \n",
      "2023-03                         228                  159               121   \n",
      "2023-04                         325                  102                91   \n",
      "2023-05                         497                  148               161   \n",
      "2023-06                        1460                  229               854   \n",
      "2023-07                        1164                  133               615   \n",
      "2023-08                         906                   72               307   \n",
      "2023-09                         352                   38                62   \n",
      "2023-10                         250                   41                58   \n",
      "2023-11                          64                    4                27   \n",
      "\n",
      "Degree     Undergraduate Student  \n",
      "YearMonth                         \n",
      "2022-05                        1  \n",
      "2022-08                      117  \n",
      "2022-09                      138  \n",
      "2022-10                      151  \n",
      "2022-11                       62  \n",
      "2022-12                       44  \n",
      "2023-01                      117  \n",
      "2023-02                      132  \n",
      "2023-03                      515  \n",
      "2023-04                      425  \n",
      "2023-05                      707  \n",
      "2023-06                     1705  \n",
      "2023-07                     1237  \n",
      "2023-08                      740  \n",
      "2023-09                      224  \n",
      "2023-10                      157  \n",
      "2023-11                       55  \n"
     ]
    }
   ],
   "source": []
  },
  {
   "cell_type": "code",
   "execution_count": 56,
   "id": "a16c4125-0c28-4452-99c0-7806dcb4b07b",
   "metadata": {},
   "outputs": [
    {
     "name": "stdout",
     "output_type": "stream",
     "text": [
      "               Gender  Number of Participants\n",
      "                 Male                   11027\n",
      "               Female                    6910\n",
      "Don't want to specify                      75\n",
      "                Other                      15\n"
     ]
    }
   ],
   "source": [
    "unique_genders = data[\"Gender\"].value_counts().reset_index()\n",
    "unique_genders.columns = [\"Gender\", \"Number of Participants\"]\n",
    "print(unique_genders.to_string(index = False))"
   ]
  },
  {
   "cell_type": "code",
   "execution_count": 58,
   "id": "5d7ca9fc-3af9-415d-8329-68f49e316218",
   "metadata": {},
   "outputs": [
    {
     "name": "stdout",
     "output_type": "stream",
     "text": [
      "                  Degree  Number of Participants\n",
      "   Undergraduate Student                    6527\n",
      "Graduate Program Student                    6015\n",
      "        Not in Education                    2646\n",
      "     High School Student                    1562\n"
     ]
    }
   ],
   "source": [
    "level_education = data[\"Degree\"].value_counts().reset_index()\n",
    "level_education.columns = [\"Degree\", \"Number of Participants\"]\n",
    "print(level_education.to_string(index = False))"
   ]
  },
  {
   "cell_type": "code",
   "execution_count": 59,
   "id": "ae9c92d0-55e5-4a6a-8e65-1b577f85baa7",
   "metadata": {},
   "outputs": [],
   "source": [
    "countries = data[\"Country\"].value_counts().reset_index()\n",
    "countries.columns = [\"Country\", \"Number of Participants\"]"
   ]
  },
  {
   "cell_type": "code",
   "execution_count": 61,
   "id": "67b9cd63-1131-4b5a-bb70-ca426fe893b2",
   "metadata": {},
   "outputs": [
    {
     "name": "stdout",
     "output_type": "stream",
     "text": [
      "      Country  Number of Participants\n",
      "        India                   11893\n",
      "      Nigeria                    4357\n",
      "United States                    3691\n",
      "     Pakistan                    1928\n",
      "        Ghana                    1124\n",
      "        Egypt                     897\n"
     ]
    }
   ],
   "source": [
    "top_5_countries = countries.nlargest(6, \"Number of Participants\")\n",
    "print(top_5_countries.to_string(index = False))"
   ]
  },
  {
   "cell_type": "code",
   "execution_count": 68,
   "id": "76b12611-279c-4336-aa5f-37632c0da397",
   "metadata": {},
   "outputs": [
    {
     "name": "stdout",
     "output_type": "stream",
     "text": [
      "Percentage of participants from social media: 57.14%\n",
      "Percentage of participants not from social media: 42.86%\n"
     ]
    }
   ],
   "source": [
    "signup_method = data[\"isFromSocialMedia\"].value_counts().reset_index()\n",
    "signup_method.columns = [\"isFromSocialMedia\", \"Number of Participants\"]\n",
    "\n",
    "social_media_summary = pd.DataFrame({\n",
    "    \"SocialMediaType\": signup_method[\"isFromSocialMedia\"].map({True: \"From Social Media\", False: \"Not From Social Media\"}),\n",
    "    \"Number of Participants\": signup_method[\"Number of Participants\"]\n",
    "})\n",
    "\n",
    "\n",
    "total_participants = social_media_summary[\"Number of Participants\"].sum()\n",
    "\n",
    "# Extract counts for \"From Social Media\" and \"Not From Social Media\"\n",
    "from_social_media_count = social_media_summary[social_media_summary[\"SocialMediaType\"] == \"From Social Media\"][\"Number of Participants\"].sum()\n",
    "not_from_social_media_count = social_media_summary[social_media_summary[\"SocialMediaType\"] == \"Not From Social Media\"][\"Number of Participants\"].sum()\n",
    "\n",
    "# Calculate percentage\n",
    "percentage_value_for = (from_social_media_count / total_participants) * 100\n",
    "percentage_value_not = (not_from_social_media_count / total_participants) * 100\n",
    "\n",
    "# Display the results\n",
    "print(f'Percentage of participants from social media: {percentage_value_for:.2f}%')\n",
    "print(f'Percentage of participants not from social media: {percentage_value_not:.2f}%')\n"
   ]
  },
  {
   "cell_type": "code",
   "execution_count": 8,
   "id": "179bd9c5-0c8d-42e3-b7ec-80836104d38b",
   "metadata": {},
   "outputs": [
    {
     "data": {
      "text/plain": [
       "PreferredSponsors        0\n",
       "Gender                9535\n",
       "Country                 62\n",
       "Degree               10812\n",
       "Sign Up Date             0\n",
       "city                  9534\n",
       "zip                   9544\n",
       "isFromSocialMedia        9\n",
       "dtype: int64"
      ]
     },
     "execution_count": 8,
     "metadata": {},
     "output_type": "execute_result"
    }
   ],
   "source": [
    "data.isnull().sum() "
   ]
  },
  {
   "cell_type": "code",
   "execution_count": 13,
   "id": "69404758-b984-4e2a-a4ac-fe6b1b397926",
   "metadata": {},
   "outputs": [
    {
     "name": "stdout",
     "output_type": "stream",
     "text": [
      "High regional countriesCountry\n",
      "India            11893\n",
      "Nigeria           4357\n",
      "United States     3691\n",
      "Pakistan          1928\n",
      "Ghana             1124\n",
      "Egypt              897\n",
      "Name: PreferredSponsors, dtype: int64\n",
      "low regional countriesCountry\n",
      "Antigua and Barbuda         1\n",
      "Bahrain                     1\n",
      "Barbados                    1\n",
      "Bulgaria                    1\n",
      "Central African Republic    1\n",
      "Comoros                     1\n",
      "Name: PreferredSponsors, dtype: int64\n",
      "high city countriescity\n",
      "Hyderabad      743\n",
      "Saint Louis    469\n",
      "Lagos          450\n",
      "Accra          336\n",
      "Chicago        318\n",
      "Pune           268\n",
      "Name: PreferredSponsors, dtype: int64\n",
      "low city countriescity\n",
      "ABEOKUTA       1\n",
      "ABLEKUMA       1\n",
      "ABak           1\n",
      "ACHALPUR       1\n",
      "ADDIS ABABA    1\n",
      "ADO            1\n",
      "Name: PreferredSponsors, dtype: int64\n",
      "Social media engagementsCountry        isFromSocialMedia\n",
      "Afghanistan    True                 132\n",
      "               False                 15\n",
      "Aland Islands  True                  50\n",
      "               False                  2\n",
      "Albania        True                  29\n",
      "                                   ... \n",
      "Yemen          True                   1\n",
      "Zambia         True                  26\n",
      "               False                 13\n",
      "Zimbabwe       False                 16\n",
      "               True                  11\n",
      "Name: count, Length: 290, dtype: int64\n",
      "Gender engagementsCountry        Gender\n",
      "Afghanistan    Male      18\n",
      "               Female     8\n",
      "Aland Islands  Female     1\n",
      "Albania        Male       3\n",
      "               Female     1\n",
      "                         ..\n",
      "Yemen          Male       2\n",
      "Zambia         Male      15\n",
      "               Female     9\n",
      "Zimbabwe       Male       7\n",
      "               Female     6\n",
      "Name: count, Length: 249, dtype: int64\n",
      "Degree engagementsCountry      Degree                  \n",
      "Afghanistan  Undergraduate Student       9\n",
      "             Not in Education            6\n",
      "             Graduate Program Student    2\n",
      "Albania      Graduate Program Student    1\n",
      "             Not in Education            1\n",
      "                                        ..\n",
      "Zambia       High School Student         1\n",
      "Zimbabwe     Not in Education            6\n",
      "             Graduate Program Student    4\n",
      "             High School Student         2\n",
      "             Undergraduate Student       2\n",
      "Name: count, Length: 315, dtype: int64\n"
     ]
    }
   ],
   "source": [
    "regional_engagement_metrics = data.groupby(\"Country\")[\"PreferredSponsors\"].count()\n",
    "# high regional metrics \n",
    "high_regional = regional_engagement_metrics.nlargest(6)\n",
    "low_regional = regional_engagement_metrics.nsmallest(6)\n",
    "\n",
    "# Gender\n",
    "gender_engagement_metrics = data.groupby(\"Country\")[\"Gender\"].value_counts()\n",
    "\n",
    "# Degree\n",
    "degree_engagement_metrics = data.groupby(\"Country\")[\"Degree\"].value_counts()\n",
    "\n",
    "# socialmedia \n",
    "socialmedia_engagement_metrics = data.groupby(\"Country\")[\"isFromSocialMedia\"].value_counts()\n",
    "# city\n",
    "city_engagement_metrics = data.groupby(\"city\")[\"PreferredSponsors\"].count()\n",
    "# high cities\n",
    "high_city = city_engagement_metrics.nlargest(6)\n",
    "low_city = city_engagement_metrics.nsmallest(6)\n",
    "\n",
    "# print everying\n",
    "print(f\"High regional countries{high_regional}\")\n",
    "print(f\"low regional countries{low_regional}\")\n",
    "print(f\"high city countries{high_city}\")\n",
    "print(f\"low city countries{low_city}\")\n",
    "print(f\"Social media engagements{socialmedia_engagement_metrics}\")\n",
    "print(f\"Gender engagements{gender_engagement_metrics}\")\n",
    "print(f\"Degree engagements{degree_engagement_metrics}\")"
   ]
  },
  {
   "cell_type": "code",
   "execution_count": 21,
   "id": "226d9998-6ad5-43d1-9b44-8317e60f3ae4",
   "metadata": {},
   "outputs": [
    {
     "name": "stdout",
     "output_type": "stream",
     "text": [
      "           Country  Gender  Count\n",
      "0      Afghanistan  Female      8\n",
      "1      Afghanistan    Male     18\n",
      "2    Aland Islands  Female      1\n",
      "3          Albania  Female      1\n",
      "4          Albania    Male      3\n",
      "..             ...     ...    ...\n",
      "244          Yemen    Male      2\n",
      "245         Zambia  Female      9\n",
      "246         Zambia    Male     15\n",
      "247       Zimbabwe  Female      6\n",
      "248       Zimbabwe    Male      7\n",
      "\n",
      "[249 rows x 3 columns]\n"
     ]
    }
   ],
   "source": [
    "# Analyze distribution of factors against country\n",
    "gender_vs_country = data.groupby([\"Country\", \"Gender\"]).size().reset_index(name=\"Count\")\n",
    "degree_vs_country = data.groupby([\"Country\", \"Degree\"]).size().reset_index(name=\"Count\")\n",
    "social_media_vs_country = data.groupby([\"Country\", \"isFromSocialMedia\"]).size().reset_index(name=\"Count\")\n",
    "sponsor_vs_country = data.groupby([\"Country\", \"PreferredSponsors\"]).size().reset_index(name=\"Count\")"
   ]
  },
  {
   "cell_type": "code",
   "execution_count": null,
   "id": "7667561c-fc95-4f86-9e9e-e2d9059c29b9",
   "metadata": {},
   "outputs": [],
   "source": []
  }
 ],
 "metadata": {
  "kernelspec": {
   "display_name": "Python 3 (ipykernel)",
   "language": "python",
   "name": "python3"
  },
  "language_info": {
   "codemirror_mode": {
    "name": "ipython",
    "version": 3
   },
   "file_extension": ".py",
   "mimetype": "text/x-python",
   "name": "python",
   "nbconvert_exporter": "python",
   "pygments_lexer": "ipython3",
   "version": "3.11.7"
  }
 },
 "nbformat": 4,
 "nbformat_minor": 5
}
